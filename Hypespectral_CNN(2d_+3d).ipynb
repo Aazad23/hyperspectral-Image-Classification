{
 "cells": [
  {
   "cell_type": "markdown",
   "metadata": {
    "colab_type": "text",
    "id": "view-in-github"
   },
   "source": [
    "<a href=\"https://colab.research.google.com/github/aditis1204/Hypespectral_Visualization_Classification/blob/master/Hypespectral_CNN(2d_%2B3d).ipynb\" target=\"_parent\"><img src=\"https://colab.research.google.com/assets/colab-badge.svg\" alt=\"Open In Colab\"/></a>"
   ]
  },
  {
   "cell_type": "code",
   "execution_count": 1,
   "metadata": {
    "colab": {
     "base_uri": "https://localhost:8080/",
     "height": 121
    },
    "colab_type": "code",
    "id": "Y5_f0xaP3Z_D",
    "outputId": "bd191531-9449-4135-bcb7-af33a32255b1"
   },
   "outputs": [
    {
     "name": "stdout",
     "output_type": "stream",
     "text": [
      "Collecting spectral\n",
      "\u001b[?25l  Downloading https://files.pythonhosted.org/packages/ce/06/6a89035cde4eac3ed94e1888f850af653386e8ee827edc72ffc8e445bcb7/spectral-0.22.1-py3-none-any.whl (212kB)\n",
      "\r",
      "\u001b[K     |█▌                              | 10kB 18.8MB/s eta 0:00:01\r",
      "\u001b[K     |███                             | 20kB 4.6MB/s eta 0:00:01\r",
      "\u001b[K     |████▋                           | 30kB 5.9MB/s eta 0:00:01\r",
      "\u001b[K     |██████▏                         | 40kB 6.7MB/s eta 0:00:01\r",
      "\u001b[K     |███████▊                        | 51kB 5.2MB/s eta 0:00:01\r",
      "\u001b[K     |█████████▎                      | 61kB 5.7MB/s eta 0:00:01\r",
      "\u001b[K     |██████████▊                     | 71kB 6.1MB/s eta 0:00:01\r",
      "\u001b[K     |████████████▎                   | 81kB 6.8MB/s eta 0:00:01\r",
      "\u001b[K     |█████████████▉                  | 92kB 7.3MB/s eta 0:00:01\r",
      "\u001b[K     |███████████████▍                | 102kB 7.0MB/s eta 0:00:01\r",
      "\u001b[K     |█████████████████               | 112kB 7.0MB/s eta 0:00:01\r",
      "\u001b[K     |██████████████████▌             | 122kB 7.0MB/s eta 0:00:01\r",
      "\u001b[K     |████████████████████            | 133kB 7.0MB/s eta 0:00:01\r",
      "\u001b[K     |█████████████████████▌          | 143kB 7.0MB/s eta 0:00:01\r",
      "\u001b[K     |███████████████████████         | 153kB 7.0MB/s eta 0:00:01\r",
      "\u001b[K     |████████████████████████▋       | 163kB 7.0MB/s eta 0:00:01\r",
      "\u001b[K     |██████████████████████████▏     | 174kB 7.0MB/s eta 0:00:01\r",
      "\u001b[K     |███████████████████████████▊    | 184kB 7.0MB/s eta 0:00:01\r",
      "\u001b[K     |█████████████████████████████▎  | 194kB 7.0MB/s eta 0:00:01\r",
      "\u001b[K     |██████████████████████████████▊ | 204kB 7.0MB/s eta 0:00:01\r",
      "\u001b[K     |████████████████████████████████| 215kB 7.0MB/s \n",
      "\u001b[?25hRequirement already satisfied: numpy in /usr/local/lib/python3.6/dist-packages (from spectral) (1.18.5)\n",
      "Installing collected packages: spectral\n",
      "Successfully installed spectral-0.22.1\n"
     ]
    },
    {
     "data": {
      "text/html": [
       "        <script type=\"text/javascript\">\n",
       "        window.PlotlyConfig = {MathJaxConfig: 'local'};\n",
       "        if (window.MathJax) {MathJax.Hub.Config({SVG: {font: \"STIX-Web\"}});}\n",
       "        if (typeof require !== 'undefined') {\n",
       "        require.undef(\"plotly\");\n",
       "        requirejs.config({\n",
       "            paths: {\n",
       "                'plotly': ['https://cdn.plot.ly/plotly-latest.min']\n",
       "            }\n",
       "        });\n",
       "        require(['plotly'], function(Plotly) {\n",
       "            window._Plotly = Plotly;\n",
       "        });\n",
       "        }\n",
       "        </script>\n",
       "        "
      ]
     },
     "metadata": {
      "tags": []
     },
     "output_type": "display_data"
    }
   ],
   "source": [
    "!pip install spectral\n",
    "import keras\n",
    "from keras.layers import Conv2D, Conv3D, Flatten, Dense, Reshape, BatchNormalization\n",
    "from keras.layers import Dropout, Input\n",
    "from keras.models import Model\n",
    "from keras.optimizers import Adam\n",
    "\n",
    "from keras.callbacks import ModelCheckpoint\n",
    "from keras.utils import np_utils\n",
    "\n",
    "from sklearn.decomposition import PCA\n",
    "from sklearn.model_selection import train_test_split\n",
    "from sklearn.metrics import confusion_matrix, accuracy_score, classification_report, cohen_kappa_score\n",
    "\n",
    "from operator import truediv\n",
    "\n",
    "from plotly.offline import init_notebook_mode\n",
    "\n",
    "import numpy as np\n",
    "import matplotlib.pyplot as plt\n",
    "import scipy.io as sio\n",
    "import os\n",
    "import spectral\n",
    "\n",
    "init_notebook_mode(connected=True)\n",
    "%matplotlib inline"
   ]
  },
  {
   "cell_type": "code",
   "execution_count": 2,
   "metadata": {
    "colab": {
     "base_uri": "https://localhost:8080/",
     "height": 590
    },
    "colab_type": "code",
    "id": "jq_ScgfoXiwc",
    "outputId": "7d7b2f8b-8735-44c9-afe2-998f7cee6db4"
   },
   "outputs": [
    {
     "name": "stdout",
     "output_type": "stream",
     "text": [
      "--2020-08-19 09:22:51--  http://www.ehu.eus/ccwintco/uploads/6/67/Indian_pines_corrected.mat\n",
      "Resolving www.ehu.eus (www.ehu.eus)... 158.227.0.65, 2001:720:1410::65\n",
      "Connecting to www.ehu.eus (www.ehu.eus)|158.227.0.65|:80... connected.\n",
      "HTTP request sent, awaiting response... 200 OK\n",
      "Length: 5953527 (5.7M) [text/plain]\n",
      "Saving to: ‘Indian_pines_corrected.mat’\n",
      "\n",
      "Indian_pines_correc 100%[===================>]   5.68M  1.55MB/s    in 4.0s    \n",
      "\n",
      "2020-08-19 09:22:56 (1.41 MB/s) - ‘Indian_pines_corrected.mat’ saved [5953527/5953527]\n",
      "\n",
      "--2020-08-19 09:22:59--  http://www.ehu.eus/ccwintco/uploads/c/c4/Indian_pines_gt.mat\n",
      "Resolving www.ehu.eus (www.ehu.eus)... 158.227.0.65, 2001:720:1410::65\n",
      "Connecting to www.ehu.eus (www.ehu.eus)|158.227.0.65|:80... connected.\n",
      "HTTP request sent, awaiting response... 200 OK\n",
      "Length: 1125 (1.1K) [text/plain]\n",
      "Saving to: ‘Indian_pines_gt.mat’\n",
      "\n",
      "Indian_pines_gt.mat 100%[===================>]   1.10K  --.-KB/s    in 0s      \n",
      "\n",
      "2020-08-19 09:22:59 (152 MB/s) - ‘Indian_pines_gt.mat’ saved [1125/1125]\n",
      "\n",
      "--2020-08-19 09:23:03--  http://www.ehu.eus/ccwintco/uploads/6/67/Indian_pines_corrected.mat\n",
      "Resolving www.ehu.eus (www.ehu.eus)... 158.227.0.65, 2001:720:1410::65\n",
      "Connecting to www.ehu.eus (www.ehu.eus)|158.227.0.65|:80... connected.\n",
      "HTTP request sent, awaiting response... 200 OK\n",
      "Length: 5953527 (5.7M) [text/plain]\n",
      "Saving to: ‘Indian_pines_corrected.mat.1’\n",
      "\n",
      "Indian_pines_correc 100%[===================>]   5.68M  1.74MB/s    in 3.6s    \n",
      "\n",
      "2020-08-19 09:23:07 (1.58 MB/s) - ‘Indian_pines_corrected.mat.1’ saved [5953527/5953527]\n",
      "\n"
     ]
    }
   ],
   "source": [
    "\n",
    "!wget \"http://www.ehu.eus/ccwintco/uploads/6/67/Indian_pines_corrected.mat\"\n",
    "\n",
    "\n",
    "!wget \"http://www.ehu.eus/ccwintco/uploads/c/c4/Indian_pines_gt.mat\"\n",
    "!wget \"http://www.ehu.eus/ccwintco/uploads/6/67/Indian_pines_corrected.mat\""
   ]
  },
  {
   "cell_type": "code",
   "execution_count": 3,
   "metadata": {
    "colab": {},
    "colab_type": "code",
    "id": "2OvZK0t_3ugb"
   },
   "outputs": [],
   "source": [
    "\n",
    "test_ratio = 0.7\n",
    "windowSize = 25"
   ]
  },
  {
   "cell_type": "code",
   "execution_count": 4,
   "metadata": {
    "colab": {},
    "colab_type": "code",
    "id": "1xNQhTUB3zRc"
   },
   "outputs": [],
   "source": [
    "\n",
    "## Importing Library.\n",
    "from scipy.io import loadmat\n",
    "def loadData():\n",
    "  dataset = loadmat('Indian_pines_corrected.mat')['indian_pines_corrected']\n",
    "  labels = loadmat('Indian_pines_gt.mat')['indian_pines_gt']\n",
    "  return dataset, labels"
   ]
  },
  {
   "cell_type": "code",
   "execution_count": 5,
   "metadata": {
    "colab": {},
    "colab_type": "code",
    "id": "BIP7lED73zsv"
   },
   "outputs": [],
   "source": [
    "def splitTrainTestSet(X, y, testRatio, randomState=345):\n",
    "    X_train, X_test, y_train, y_test = train_test_split(X, y, test_size=testRatio, random_state=randomState,\n",
    "                                                        stratify=y)\n",
    "    return X_train, X_test, y_train, y_test"
   ]
  },
  {
   "cell_type": "code",
   "execution_count": 6,
   "metadata": {
    "colab": {},
    "colab_type": "code",
    "id": "loQAP9D2VEx0"
   },
   "outputs": [],
   "source": [
    "\n",
    "from sklearn.decomposition import PCA\n",
    "from sklearn.decomposition import KernelPCA\n",
    "def applyPCA(X, numComponents=150):\n",
    "    newX = np.reshape(X, (-1, X.shape[2]))\n",
    "    #pca = KernelPCA(n_components=numComponents, kernel='poly',eigen_solver='arpack')\n",
    "    #pca = PCA(n_components=numComponents, svd_solver='arpack')\n",
    "    pca = PCA(n_components=numComponents, whiten=True)\n",
    "\n",
    "    newX = pca.fit_transform(newX)\n",
    "    newX = np.reshape(newX, (X.shape[0],X.shape[1], numComponents))\n",
    "    return newX, pca"
   ]
  },
  {
   "cell_type": "code",
   "execution_count": 7,
   "metadata": {
    "colab": {},
    "colab_type": "code",
    "id": "ZbYVUUXQ35jp"
   },
   "outputs": [],
   "source": [
    "\n",
    "def padWithZeros(X, margin=2):\n",
    "    newX = np.zeros((X.shape[0] + 2 * margin, X.shape[1] + 2* margin, X.shape[2]))\n",
    "    x_offset = margin\n",
    "    y_offset = margin\n",
    "    newX[x_offset:X.shape[0] + x_offset, y_offset:X.shape[1] + y_offset, :] = X\n",
    "    return newX"
   ]
  },
  {
   "cell_type": "code",
   "execution_count": 8,
   "metadata": {
    "colab": {},
    "colab_type": "code",
    "id": "KO8e-Muu376R"
   },
   "outputs": [],
   "source": [
    "\n",
    "def createImageCubes(X, y, windowSize=5, removeZeroLabels = True):\n",
    "    margin = int((windowSize - 1) / 2)\n",
    "    zeroPaddedX = padWithZeros(X, margin=margin)\n",
    "    # split patches\n",
    "    patchesData = np.zeros((X.shape[0] * X.shape[1], windowSize, windowSize, X.shape[2]))\n",
    "    patchesLabels = np.zeros((X.shape[0] * X.shape[1]))\n",
    "    patchIndex = 0\n",
    "    for r in range(margin, zeroPaddedX.shape[0] - margin):\n",
    "        for c in range(margin, zeroPaddedX.shape[1] - margin):\n",
    "            patch = zeroPaddedX[r - margin:r + margin + 1, c - margin:c + margin + 1]   \n",
    "            patchesData[patchIndex, :, :, :] = patch\n",
    "            patchesLabels[patchIndex] = y[r-margin, c-margin]\n",
    "            patchIndex = patchIndex + 1\n",
    "    if removeZeroLabels:\n",
    "        patchesData = patchesData[patchesLabels>0,:,:,:]\n",
    "        patchesLabels = patchesLabels[patchesLabels>0]\n",
    "        patchesLabels -= 1\n",
    "    return patchesData, patchesLabels"
   ]
  },
  {
   "cell_type": "code",
   "execution_count": 9,
   "metadata": {
    "colab": {
     "base_uri": "https://localhost:8080/",
     "height": 34
    },
    "colab_type": "code",
    "id": "hCWje1Kz3-9x",
    "outputId": "5f1db9d0-1a3b-4197-bbb9-2a2d00ecd3b4"
   },
   "outputs": [
    {
     "data": {
      "text/plain": [
       "((145, 145, 200), (145, 145))"
      ]
     },
     "execution_count": 9,
     "metadata": {
      "tags": []
     },
     "output_type": "execute_result"
    }
   ],
   "source": [
    "\n",
    "X, y = loadData()\n",
    "\n",
    "X.shape, y.shape"
   ]
  },
  {
   "cell_type": "code",
   "execution_count": 10,
   "metadata": {
    "colab": {},
    "colab_type": "code",
    "id": "Atk4OOay4JY-"
   },
   "outputs": [],
   "source": [
    "\n",
    "\n",
    "K = X.shape[2]"
   ]
  },
  {
   "cell_type": "code",
   "execution_count": 11,
   "metadata": {
    "colab": {
     "base_uri": "https://localhost:8080/",
     "height": 34
    },
    "colab_type": "code",
    "id": "bXQNoBGtNC1Q",
    "outputId": "cdf64606-25db-42a5-b7f0-0de7a74113e6"
   },
   "outputs": [
    {
     "data": {
      "text/plain": [
       "(145, 145, 50)"
      ]
     },
     "execution_count": 11,
     "metadata": {
      "tags": []
     },
     "output_type": "execute_result"
    }
   ],
   "source": [
    "\n",
    "\n",
    "\n",
    "K = 50 \n",
    "X,pca = applyPCA(X,numComponents=K)\n",
    "\n",
    "X.shape"
   ]
  },
  {
   "cell_type": "code",
   "execution_count": 12,
   "metadata": {
    "colab": {
     "base_uri": "https://localhost:8080/",
     "height": 34
    },
    "colab_type": "code",
    "id": "YVHgSuAw56jo",
    "outputId": "0b70b4b1-177b-4a38-9fa1-5f66a03c687d"
   },
   "outputs": [
    {
     "data": {
      "text/plain": [
       "((10249, 25, 25, 50), (10249,))"
      ]
     },
     "execution_count": 12,
     "metadata": {
      "tags": []
     },
     "output_type": "execute_result"
    }
   ],
   "source": [
    "X, y = createImageCubes(X, y, windowSize=windowSize)\n",
    "\n",
    "\n",
    "X.shape, y.shape"
   ]
  },
  {
   "cell_type": "code",
   "execution_count": 13,
   "metadata": {
    "colab": {
     "base_uri": "https://localhost:8080/",
     "height": 34
    },
    "colab_type": "code",
    "id": "n0mcltZv7HTh",
    "outputId": "5a929cf6-ed67-402c-d556-779cf79228f7"
   },
   "outputs": [
    {
     "data": {
      "text/plain": [
       "((3074, 25, 25, 50), (7175, 25, 25, 50), (3074,), (7175,))"
      ]
     },
     "execution_count": 13,
     "metadata": {
      "tags": []
     },
     "output_type": "execute_result"
    }
   ],
   "source": [
    "\n",
    "Xtrain, Xtest, ytrain, ytest = splitTrainTestSet(X, y, test_ratio)\n",
    "\n",
    "Xtrain.shape, Xtest.shape, ytrain.shape, ytest.shape"
   ]
  },
  {
   "cell_type": "code",
   "execution_count": 14,
   "metadata": {
    "colab": {
     "base_uri": "https://localhost:8080/",
     "height": 34
    },
    "colab_type": "code",
    "id": "uzHsSI_S7OOR",
    "outputId": "35585a57-e2ad-48fa-81be-92e5de659574"
   },
   "outputs": [
    {
     "data": {
      "text/plain": [
       "(3074, 25, 25, 50, 1)"
      ]
     },
     "execution_count": 14,
     "metadata": {
      "tags": []
     },
     "output_type": "execute_result"
    }
   ],
   "source": [
    "\n",
    "\n",
    "Xtrain = Xtrain.reshape(-1, windowSize, windowSize, K, 1)\n",
    "Xtrain.shape"
   ]
  },
  {
   "cell_type": "code",
   "execution_count": 15,
   "metadata": {
    "colab": {
     "base_uri": "https://localhost:8080/",
     "height": 34
    },
    "colab_type": "code",
    "id": "7_SQKkYa7QwD",
    "outputId": "07c417d1-5e26-435c-d2a1-c9175ff9d560"
   },
   "outputs": [
    {
     "data": {
      "text/plain": [
       "(3074, 16)"
      ]
     },
     "execution_count": 15,
     "metadata": {
      "tags": []
     },
     "output_type": "execute_result"
    }
   ],
   "source": [
    "ytrain = np_utils.to_categorical(ytrain)\n",
    "ytrain.shape"
   ]
  },
  {
   "cell_type": "code",
   "execution_count": 16,
   "metadata": {
    "colab": {},
    "colab_type": "code",
    "id": "eCvhVtj47S-7"
   },
   "outputs": [],
   "source": [
    "S = windowSize\n",
    "L = K\n",
    "output_units =  16"
   ]
  },
  {
   "cell_type": "code",
   "execution_count": 17,
   "metadata": {
    "colab": {
     "base_uri": "https://localhost:8080/",
     "height": 34
    },
    "colab_type": "code",
    "id": "-IPHBX_XxFXP",
    "outputId": "6b2b623f-3820-4df7-dd89-593f3fb9bee2"
   },
   "outputs": [
    {
     "name": "stdout",
     "output_type": "stream",
     "text": [
      "(None, 19, 19, 38, 32)\n"
     ]
    }
   ],
   "source": [
    "\n",
    "\n",
    "## input layer\n",
    "input_layer = Input((S, S, L, 1))\n",
    "\n",
    "## convolutional layers\n",
    "conv_layer1 = Conv3D(filters=8, kernel_size=(3, 3, 7), activation='relu')(input_layer)\n",
    "conv_layer2 = Conv3D(filters=16, kernel_size=(3, 3, 5), activation='relu')(conv_layer1)\n",
    "conv_layer3 = Conv3D(filters=32, kernel_size=(3, 3, 3), activation='relu')(conv_layer2)\n",
    "print(conv_layer3.shape)\n",
    "conv3d_shape = conv_layer3.shape\n",
    "conv_layer3 = Reshape((conv3d_shape[1], conv3d_shape[2], conv3d_shape[3]*conv3d_shape[4]))(conv_layer3)\n",
    "conv_layer4 = Conv2D(filters=64, kernel_size=(3,3), activation='relu')(conv_layer3)\n",
    "\n",
    "flatten_layer = Flatten()(conv_layer4)\n",
    "\n",
    "## fully connected layers\n",
    "dense_layer1 = Dense(units=256, activation='relu')(flatten_layer)\n",
    "dense_layer1 = Dropout(0.4)(dense_layer1)\n",
    "dense_layer2 = Dense(units=128, activation='relu')(dense_layer1)\n",
    "dense_layer2 = Dropout(0.4)(dense_layer2)\n",
    "output_layer = Dense(units=output_units, activation='softmax')(dense_layer2)"
   ]
  },
  {
   "cell_type": "code",
   "execution_count": 18,
   "metadata": {
    "colab": {
     "base_uri": "https://localhost:8080/",
     "height": 573
    },
    "colab_type": "code",
    "id": "Oo8jL-Gt7Zhp",
    "outputId": "c3812b18-73ec-4d3e-b2b3-4d8c509d0943"
   },
   "outputs": [
    {
     "name": "stdout",
     "output_type": "stream",
     "text": [
      "Model: \"functional_1\"\n",
      "_________________________________________________________________\n",
      "Layer (type)                 Output Shape              Param #   \n",
      "=================================================================\n",
      "input_1 (InputLayer)         [(None, 25, 25, 50, 1)]   0         \n",
      "_________________________________________________________________\n",
      "conv3d (Conv3D)              (None, 23, 23, 44, 8)     512       \n",
      "_________________________________________________________________\n",
      "conv3d_1 (Conv3D)            (None, 21, 21, 40, 16)    5776      \n",
      "_________________________________________________________________\n",
      "conv3d_2 (Conv3D)            (None, 19, 19, 38, 32)    13856     \n",
      "_________________________________________________________________\n",
      "reshape (Reshape)            (None, 19, 19, 1216)      0         \n",
      "_________________________________________________________________\n",
      "conv2d (Conv2D)              (None, 17, 17, 64)        700480    \n",
      "_________________________________________________________________\n",
      "flatten (Flatten)            (None, 18496)             0         \n",
      "_________________________________________________________________\n",
      "dense (Dense)                (None, 256)               4735232   \n",
      "_________________________________________________________________\n",
      "dropout (Dropout)            (None, 256)               0         \n",
      "_________________________________________________________________\n",
      "dense_1 (Dense)              (None, 128)               32896     \n",
      "_________________________________________________________________\n",
      "dropout_1 (Dropout)          (None, 128)               0         \n",
      "_________________________________________________________________\n",
      "dense_2 (Dense)              (None, 16)                2064      \n",
      "=================================================================\n",
      "Total params: 5,490,816\n",
      "Trainable params: 5,490,816\n",
      "Non-trainable params: 0\n",
      "_________________________________________________________________\n"
     ]
    }
   ],
   "source": [
    "model = Model(inputs=input_layer, outputs=output_layer)\n",
    "model.summary()\n"
   ]
  },
  {
   "cell_type": "code",
   "execution_count": 19,
   "metadata": {
    "colab": {},
    "colab_type": "code",
    "id": "YHWzzltd7gWB"
   },
   "outputs": [],
   "source": [
    "adam = Adam(lr=0.001, decay=1e-06)\n",
    "model.compile(loss='categorical_crossentropy', optimizer=adam, metrics=['accuracy'])"
   ]
  },
  {
   "cell_type": "code",
   "execution_count": 20,
   "metadata": {
    "colab": {},
    "colab_type": "code",
    "id": "SRlHrAVp7je1"
   },
   "outputs": [],
   "source": [
    "\n",
    "# checkpoint\n",
    "filepath = \"/content/drive/My Drive/Colab Notebooks/best-model.hdf5\"\n",
    "checkpoint = ModelCheckpoint(filepath, monitor='acc', verbose=1, save_best_only=True, mode='max')\n",
    "callbacks_list = [checkpoint]"
   ]
  },
  {
   "cell_type": "code",
   "execution_count": 21,
   "metadata": {
    "colab": {
     "base_uri": "https://localhost:8080/",
     "height": 1000
    },
    "colab_type": "code",
    "id": "pj6Xhi04Fbro",
    "outputId": "e17795c5-2236-41d9-d7d2-0bb1978ef0d9"
   },
   "outputs": [
    {
     "name": "stdout",
     "output_type": "stream",
     "text": [
      "Epoch 1/50\n",
      " 2/13 [===>..........................] - ETA: 6s - loss: 3.4721 - accuracy: 0.1113WARNING:tensorflow:Callbacks method `on_train_batch_end` is slow compared to the batch time (batch time: 0.3816s vs `on_train_batch_end` time: 0.7718s). Check your callbacks.\n",
      "13/13 [==============================] - ETA: 0s - loss: 2.7533 - accuracy: 0.1552WARNING:tensorflow:Can save best model only with acc available, skipping.\n",
      "13/13 [==============================] - 13s 992ms/step - loss: 2.7533 - accuracy: 0.1552\n",
      "Epoch 2/50\n",
      "12/13 [==========================>...] - ETA: 1s - loss: 2.4770 - accuracy: 0.1895WARNING:tensorflow:Can save best model only with acc available, skipping.\n",
      "13/13 [==============================] - 13s 1s/step - loss: 2.4765 - accuracy: 0.1897\n",
      "Epoch 3/50\n",
      "12/13 [==========================>...] - ETA: 1s - loss: 2.4279 - accuracy: 0.2109WARNING:tensorflow:Can save best model only with acc available, skipping.\n",
      "13/13 [==============================] - 13s 1s/step - loss: 2.4277 - accuracy: 0.2108\n",
      "Epoch 4/50\n",
      "12/13 [==========================>...] - ETA: 1s - loss: 2.2133 - accuracy: 0.2041WARNING:tensorflow:Can save best model only with acc available, skipping.\n",
      "13/13 [==============================] - 13s 1s/step - loss: 2.2127 - accuracy: 0.2043\n",
      "Epoch 5/50\n",
      "12/13 [==========================>...] - ETA: 1s - loss: 1.9641 - accuracy: 0.3311WARNING:tensorflow:Can save best model only with acc available, skipping.\n",
      "13/13 [==============================] - 13s 1s/step - loss: 1.9637 - accuracy: 0.3312\n",
      "Epoch 6/50\n",
      "12/13 [==========================>...] - ETA: 1s - loss: 1.5342 - accuracy: 0.4521WARNING:tensorflow:Can save best model only with acc available, skipping.\n",
      "13/13 [==============================] - 13s 1s/step - loss: 1.5342 - accuracy: 0.4522\n",
      "Epoch 7/50\n",
      "12/13 [==========================>...] - ETA: 1s - loss: 1.4010 - accuracy: 0.5039WARNING:tensorflow:Can save best model only with acc available, skipping.\n",
      "13/13 [==============================] - 13s 1s/step - loss: 1.4006 - accuracy: 0.5039\n",
      "Epoch 8/50\n",
      "12/13 [==========================>...] - ETA: 1s - loss: 1.0518 - accuracy: 0.6458WARNING:tensorflow:Can save best model only with acc available, skipping.\n",
      "13/13 [==============================] - 13s 1s/step - loss: 1.0512 - accuracy: 0.6461\n",
      "Epoch 9/50\n",
      "12/13 [==========================>...] - ETA: 1s - loss: 0.7300 - accuracy: 0.7533WARNING:tensorflow:Can save best model only with acc available, skipping.\n",
      "13/13 [==============================] - 13s 1s/step - loss: 0.7300 - accuracy: 0.7531\n",
      "Epoch 10/50\n",
      "12/13 [==========================>...] - ETA: 1s - loss: 0.6979 - accuracy: 0.7630WARNING:tensorflow:Can save best model only with acc available, skipping.\n",
      "13/13 [==============================] - 13s 1s/step - loss: 0.6978 - accuracy: 0.7632\n",
      "Epoch 11/50\n",
      "12/13 [==========================>...] - ETA: 1s - loss: 0.4800 - accuracy: 0.8454WARNING:tensorflow:Can save best model only with acc available, skipping.\n",
      "13/13 [==============================] - 13s 1s/step - loss: 0.4797 - accuracy: 0.8455\n",
      "Epoch 12/50\n",
      "12/13 [==========================>...] - ETA: 1s - loss: 0.2769 - accuracy: 0.9128WARNING:tensorflow:Can save best model only with acc available, skipping.\n",
      "13/13 [==============================] - 13s 1s/step - loss: 0.2768 - accuracy: 0.9128\n",
      "Epoch 13/50\n",
      "12/13 [==========================>...] - ETA: 1s - loss: 0.2047 - accuracy: 0.9346WARNING:tensorflow:Can save best model only with acc available, skipping.\n",
      "13/13 [==============================] - 13s 1s/step - loss: 0.2045 - accuracy: 0.9346\n",
      "Epoch 14/50\n",
      "12/13 [==========================>...] - ETA: 1s - loss: 0.1523 - accuracy: 0.9574WARNING:tensorflow:Can save best model only with acc available, skipping.\n",
      "13/13 [==============================] - 13s 1s/step - loss: 0.1522 - accuracy: 0.9574\n",
      "Epoch 15/50\n",
      "12/13 [==========================>...] - ETA: 1s - loss: 0.0868 - accuracy: 0.9733WARNING:tensorflow:Can save best model only with acc available, skipping.\n",
      "13/13 [==============================] - 13s 1s/step - loss: 0.0867 - accuracy: 0.9733\n",
      "Epoch 16/50\n",
      "12/13 [==========================>...] - ETA: 1s - loss: 0.0743 - accuracy: 0.9779WARNING:tensorflow:Can save best model only with acc available, skipping.\n",
      "13/13 [==============================] - 13s 1s/step - loss: 0.0742 - accuracy: 0.9779\n",
      "Epoch 17/50\n",
      "12/13 [==========================>...] - ETA: 1s - loss: 0.0521 - accuracy: 0.9847WARNING:tensorflow:Can save best model only with acc available, skipping.\n",
      "13/13 [==============================] - 13s 1s/step - loss: 0.0521 - accuracy: 0.9847\n",
      "Epoch 18/50\n",
      "12/13 [==========================>...] - ETA: 1s - loss: 0.0401 - accuracy: 0.9863WARNING:tensorflow:Can save best model only with acc available, skipping.\n",
      "13/13 [==============================] - 13s 1s/step - loss: 0.0400 - accuracy: 0.9863\n",
      "Epoch 19/50\n",
      "12/13 [==========================>...] - ETA: 1s - loss: 0.0403 - accuracy: 0.9863WARNING:tensorflow:Can save best model only with acc available, skipping.\n",
      "13/13 [==============================] - 13s 1s/step - loss: 0.0403 - accuracy: 0.9863\n",
      "Epoch 20/50\n",
      "12/13 [==========================>...] - ETA: 1s - loss: 0.0391 - accuracy: 0.9893WARNING:tensorflow:Can save best model only with acc available, skipping.\n",
      "13/13 [==============================] - 13s 1s/step - loss: 0.0391 - accuracy: 0.9893\n",
      "Epoch 21/50\n",
      "12/13 [==========================>...] - ETA: 1s - loss: 0.0331 - accuracy: 0.9896WARNING:tensorflow:Can save best model only with acc available, skipping.\n",
      "13/13 [==============================] - 13s 1s/step - loss: 0.0331 - accuracy: 0.9896\n",
      "Epoch 22/50\n",
      "12/13 [==========================>...] - ETA: 1s - loss: 0.0338 - accuracy: 0.9919WARNING:tensorflow:Can save best model only with acc available, skipping.\n",
      "13/13 [==============================] - 13s 1s/step - loss: 0.0337 - accuracy: 0.9919\n",
      "Epoch 23/50\n",
      "12/13 [==========================>...] - ETA: 1s - loss: 0.0315 - accuracy: 0.9899WARNING:tensorflow:Can save best model only with acc available, skipping.\n",
      "13/13 [==============================] - 13s 1s/step - loss: 0.0315 - accuracy: 0.9899\n",
      "Epoch 24/50\n",
      "12/13 [==========================>...] - ETA: 1s - loss: 0.0351 - accuracy: 0.9902WARNING:tensorflow:Can save best model only with acc available, skipping.\n",
      "13/13 [==============================] - 13s 1s/step - loss: 0.0351 - accuracy: 0.9902\n",
      "Epoch 25/50\n",
      "12/13 [==========================>...] - ETA: 1s - loss: 0.0246 - accuracy: 0.9925WARNING:tensorflow:Can save best model only with acc available, skipping.\n",
      "13/13 [==============================] - 13s 1s/step - loss: 0.0246 - accuracy: 0.9925\n",
      "Epoch 26/50\n",
      "12/13 [==========================>...] - ETA: 1s - loss: 0.0146 - accuracy: 0.9941WARNING:tensorflow:Can save best model only with acc available, skipping.\n",
      "13/13 [==============================] - 13s 1s/step - loss: 0.0146 - accuracy: 0.9941\n",
      "Epoch 27/50\n",
      "12/13 [==========================>...] - ETA: 1s - loss: 0.0127 - accuracy: 0.9977WARNING:tensorflow:Can save best model only with acc available, skipping.\n",
      "13/13 [==============================] - 13s 1s/step - loss: 0.0127 - accuracy: 0.9977\n",
      "Epoch 28/50\n",
      "12/13 [==========================>...] - ETA: 1s - loss: 0.0144 - accuracy: 0.9961WARNING:tensorflow:Can save best model only with acc available, skipping.\n",
      "13/13 [==============================] - 13s 1s/step - loss: 0.0144 - accuracy: 0.9961\n",
      "Epoch 29/50\n",
      "12/13 [==========================>...] - ETA: 1s - loss: 0.0181 - accuracy: 0.9948WARNING:tensorflow:Can save best model only with acc available, skipping.\n",
      "13/13 [==============================] - 13s 1s/step - loss: 0.0181 - accuracy: 0.9948\n",
      "Epoch 30/50\n",
      "12/13 [==========================>...] - ETA: 1s - loss: 0.0179 - accuracy: 0.9958WARNING:tensorflow:Can save best model only with acc available, skipping.\n",
      "13/13 [==============================] - 13s 1s/step - loss: 0.0178 - accuracy: 0.9958\n",
      "Epoch 31/50\n",
      "12/13 [==========================>...] - ETA: 1s - loss: 0.0127 - accuracy: 0.9961WARNING:tensorflow:Can save best model only with acc available, skipping.\n",
      "13/13 [==============================] - 13s 1s/step - loss: 0.0127 - accuracy: 0.9961\n",
      "Epoch 32/50\n",
      "12/13 [==========================>...] - ETA: 1s - loss: 0.0100 - accuracy: 0.9967WARNING:tensorflow:Can save best model only with acc available, skipping.\n",
      "13/13 [==============================] - 13s 1s/step - loss: 0.0100 - accuracy: 0.9967\n",
      "Epoch 33/50\n",
      "12/13 [==========================>...] - ETA: 1s - loss: 0.0164 - accuracy: 0.9967WARNING:tensorflow:Can save best model only with acc available, skipping.\n",
      "13/13 [==============================] - 13s 1s/step - loss: 0.0164 - accuracy: 0.9967\n",
      "Epoch 34/50\n",
      "12/13 [==========================>...] - ETA: 1s - loss: 0.0154 - accuracy: 0.9964WARNING:tensorflow:Can save best model only with acc available, skipping.\n",
      "13/13 [==============================] - 13s 1s/step - loss: 0.0154 - accuracy: 0.9964\n",
      "Epoch 35/50\n",
      "12/13 [==========================>...] - ETA: 1s - loss: 0.0188 - accuracy: 0.9938WARNING:tensorflow:Can save best model only with acc available, skipping.\n",
      "13/13 [==============================] - 13s 1s/step - loss: 0.0188 - accuracy: 0.9938\n",
      "Epoch 36/50\n",
      "12/13 [==========================>...] - ETA: 1s - loss: 0.0138 - accuracy: 0.9958WARNING:tensorflow:Can save best model only with acc available, skipping.\n",
      "13/13 [==============================] - 13s 1s/step - loss: 0.0138 - accuracy: 0.9958\n",
      "Epoch 37/50\n",
      "12/13 [==========================>...] - ETA: 1s - loss: 0.0163 - accuracy: 0.9961WARNING:tensorflow:Can save best model only with acc available, skipping.\n",
      "13/13 [==============================] - 13s 1s/step - loss: 0.0162 - accuracy: 0.9961\n",
      "Epoch 38/50\n",
      "12/13 [==========================>...] - ETA: 1s - loss: 0.0116 - accuracy: 0.9974WARNING:tensorflow:Can save best model only with acc available, skipping.\n",
      "13/13 [==============================] - 13s 1s/step - loss: 0.0116 - accuracy: 0.9974\n",
      "Epoch 39/50\n",
      "12/13 [==========================>...] - ETA: 1s - loss: 0.0066 - accuracy: 0.9977WARNING:tensorflow:Can save best model only with acc available, skipping.\n",
      "13/13 [==============================] - 13s 1s/step - loss: 0.0066 - accuracy: 0.9977\n",
      "Epoch 40/50\n",
      "12/13 [==========================>...] - ETA: 1s - loss: 0.0101 - accuracy: 0.9971WARNING:tensorflow:Can save best model only with acc available, skipping.\n",
      "13/13 [==============================] - 13s 1s/step - loss: 0.0100 - accuracy: 0.9971\n",
      "Epoch 41/50\n",
      "12/13 [==========================>...] - ETA: 1s - loss: 0.0065 - accuracy: 0.9980WARNING:tensorflow:Can save best model only with acc available, skipping.\n",
      "13/13 [==============================] - 13s 1s/step - loss: 0.0065 - accuracy: 0.9980\n",
      "Epoch 42/50\n",
      "12/13 [==========================>...] - ETA: 1s - loss: 0.0091 - accuracy: 0.9974WARNING:tensorflow:Can save best model only with acc available, skipping.\n",
      "13/13 [==============================] - 13s 1s/step - loss: 0.0091 - accuracy: 0.9974\n",
      "Epoch 43/50\n",
      "12/13 [==========================>...] - ETA: 1s - loss: 0.0193 - accuracy: 0.9954WARNING:tensorflow:Can save best model only with acc available, skipping.\n",
      "13/13 [==============================] - 13s 1s/step - loss: 0.0193 - accuracy: 0.9954\n",
      "Epoch 44/50\n",
      "12/13 [==========================>...] - ETA: 1s - loss: 0.0152 - accuracy: 0.9958WARNING:tensorflow:Can save best model only with acc available, skipping.\n",
      "13/13 [==============================] - 13s 1s/step - loss: 0.0152 - accuracy: 0.9958\n",
      "Epoch 45/50\n",
      "12/13 [==========================>...] - ETA: 1s - loss: 0.0253 - accuracy: 0.9932WARNING:tensorflow:Can save best model only with acc available, skipping.\n",
      "13/13 [==============================] - 13s 1s/step - loss: 0.0253 - accuracy: 0.9932\n",
      "Epoch 46/50\n",
      "12/13 [==========================>...] - ETA: 1s - loss: 0.0381 - accuracy: 0.9893WARNING:tensorflow:Can save best model only with acc available, skipping.\n",
      "13/13 [==============================] - 13s 1s/step - loss: 0.0380 - accuracy: 0.9893\n",
      "Epoch 47/50\n",
      "12/13 [==========================>...] - ETA: 1s - loss: 0.0231 - accuracy: 0.9925WARNING:tensorflow:Can save best model only with acc available, skipping.\n",
      "13/13 [==============================] - 13s 1s/step - loss: 0.0233 - accuracy: 0.9925\n",
      "Epoch 48/50\n",
      "12/13 [==========================>...] - ETA: 1s - loss: 0.1789 - accuracy: 0.9661WARNING:tensorflow:Can save best model only with acc available, skipping.\n",
      "13/13 [==============================] - 13s 1s/step - loss: 0.1788 - accuracy: 0.9662\n",
      "Epoch 49/50\n",
      "12/13 [==========================>...] - ETA: 1s - loss: 0.0770 - accuracy: 0.9805WARNING:tensorflow:Can save best model only with acc available, skipping.\n",
      "13/13 [==============================] - 13s 1s/step - loss: 0.0773 - accuracy: 0.9802\n",
      "Epoch 50/50\n",
      "12/13 [==========================>...] - ETA: 1s - loss: 0.2639 - accuracy: 0.9544WARNING:tensorflow:Can save best model only with acc available, skipping.\n",
      "13/13 [==============================] - 13s 1s/step - loss: 0.2637 - accuracy: 0.9545\n"
     ]
    }
   ],
   "source": [
    "history = model.fit(x=Xtrain, y=ytrain, batch_size=256, epochs=50, callbacks=callbacks_list)"
   ]
  },
  {
   "cell_type": "code",
   "execution_count": 22,
   "metadata": {
    "colab": {
     "base_uri": "https://localhost:8080/",
     "height": 856
    },
    "colab_type": "code",
    "id": "rU8pudFk8HXY",
    "outputId": "72ce57e3-0542-4e28-8a81-b1fee276f80a"
   },
   "outputs": [
    {
     "data": {
      "text/plain": [
       "[<matplotlib.lines.Line2D at 0x7f905b20cef0>]"
      ]
     },
     "execution_count": 22,
     "metadata": {
      "tags": []
     },
     "output_type": "execute_result"
    },
    {
     "data": {
      "image/png": "[encoded data removed]",
      "text/plain": [
       "<Figure size 504x504 with 1 Axes>"
      ]
     },
     "metadata": {
      "needs_background": "light",
      "tags": []
     },
     "output_type": "display_data"
    },
    {
     "data": {
      "image/png": "[encoded data removed]",
      "text/plain": [
       "<Figure size 504x504 with 1 Axes>"
      ]
     },
     "metadata": {
      "needs_background": "light",
      "tags": []
     },
     "output_type": "display_data"
    }
   ],
   "source": [
    "\n",
    "plt.figure(figsize=(7,7)) \n",
    "plt.grid() \n",
    "plt.plot(history.history['loss'])\n",
    "\n",
    "\n",
    "plt.figure(figsize=(7,7)) \n",
    "plt.grid() \n",
    "plt.plot(history.history['accuracy'])\n",
    "\n"
   ]
  },
  {
   "cell_type": "code",
   "execution_count": 23,
   "metadata": {
    "colab": {
     "base_uri": "https://localhost:8080/",
     "height": 34
    },
    "colab_type": "code",
    "id": "un3k-zTVF-z8",
    "outputId": "496c1da4-38e8-4e49-858c-aac480146a6a"
   },
   "outputs": [
    {
     "data": {
      "text/plain": [
       "(7175, 25, 25, 50, 1)"
      ]
     },
     "execution_count": 23,
     "metadata": {
      "tags": []
     },
     "output_type": "execute_result"
    }
   ],
   "source": [
    "\n",
    "Xtest = Xtest.reshape(-1, windowSize, windowSize, K, 1)\n",
    "Xtest.shape"
   ]
  },
  {
   "cell_type": "code",
   "execution_count": 24,
   "metadata": {
    "colab": {
     "base_uri": "https://localhost:8080/",
     "height": 34
    },
    "colab_type": "code",
    "id": "reLbFRrOHDRK",
    "outputId": "23905fb6-2d2f-4b4a-dc2d-006c3ceac6fc"
   },
   "outputs": [
    {
     "data": {
      "text/plain": [
       "(7175, 16)"
      ]
     },
     "execution_count": 24,
     "metadata": {
      "tags": []
     },
     "output_type": "execute_result"
    }
   ],
   "source": [
    "ytest = np_utils.to_categorical(ytest)\n",
    "ytest.shape"
   ]
  },
  {
   "cell_type": "code",
   "execution_count": 25,
   "metadata": {
    "colab": {
     "base_uri": "https://localhost:8080/",
     "height": 416
    },
    "colab_type": "code",
    "id": "nEJ6Ba7OHGQr",
    "outputId": "d5a0dff3-7282-439f-dae6-e5756aae9b3f"
   },
   "outputs": [
    {
     "name": "stdout",
     "output_type": "stream",
     "text": [
      "              precision    recall  f1-score   support\n",
      "\n",
      "           0       1.00      0.84      0.92        32\n",
      "           1       0.95      0.97      0.96      1000\n",
      "           2       0.99      0.92      0.95       581\n",
      "           3       1.00      0.97      0.98       166\n",
      "           4       0.95      1.00      0.97       338\n",
      "           5       0.98      1.00      0.99       511\n",
      "           6       0.95      1.00      0.98        20\n",
      "           7       0.99      1.00      0.99       335\n",
      "           8       0.78      1.00      0.88        14\n",
      "           9       0.99      0.93      0.96       680\n",
      "          10       0.97      0.99      0.98      1719\n",
      "          11       0.99      0.95      0.97       415\n",
      "          12       0.76      1.00      0.86       143\n",
      "          13       1.00      0.97      0.98       886\n",
      "          14       0.97      0.98      0.98       270\n",
      "          15       0.96      0.98      0.97        65\n",
      "\n",
      "    accuracy                           0.97      7175\n",
      "   macro avg       0.95      0.97      0.96      7175\n",
      "weighted avg       0.97      0.97      0.97      7175\n",
      "\n"
     ]
    }
   ],
   "source": [
    "\n",
    "Y_pred_test = model.predict(Xtest)\n",
    "y_pred_test = np.argmax(Y_pred_test, axis=1)\n",
    "\n",
    "classification = classification_report(np.argmax(ytest, axis=1), y_pred_test)\n",
    "print(classification)"
   ]
  },
  {
   "cell_type": "code",
   "execution_count": 26,
   "metadata": {
    "colab": {},
    "colab_type": "code",
    "id": "CLng7bmskEhZ"
   },
   "outputs": [],
   "source": [
    "def AA_andEachClassAccuracy(confusion_matrix):\n",
    "    counter = confusion_matrix.shape[0]\n",
    "    list_diag = np.diag(confusion_matrix)\n",
    "    list_raw_sum = np.sum(confusion_matrix, axis=1)\n",
    "    each_acc = np.nan_to_num(truediv(list_diag, list_raw_sum))\n",
    "    average_acc = np.mean(each_acc)\n",
    "    return each_acc, average_acc"
   ]
  },
  {
   "cell_type": "code",
   "execution_count": 29,
   "metadata": {
    "colab": {},
    "colab_type": "code",
    "id": "DKD8XnLkHJey"
   },
   "outputs": [],
   "source": [
    "\n",
    "def reports (X_test,y_test):\n",
    "    #start = time.time()\n",
    "    Y_pred = model.predict(X_test)\n",
    "    y_pred = np.argmax(Y_pred, axis=1)\n",
    "    #end = time.time()\n",
    "    #print(end - start)\n",
    "    \n",
    "    target_names = ['Alfalfa', 'Corn-notill', 'Corn-mintill', 'Corn'\n",
    "                        ,'Grass-pasture', 'Grass-trees', 'Grass-pasture-mowed', \n",
    "                        'Hay-windrowed', 'Oats', 'Soybean-notill', 'Soybean-mintill',\n",
    "                        'Soybean-clean', 'Wheat', 'Woods', 'Buildings-Grass-Trees-Drives','Stone-Steel-Towers']\n",
    "    \n",
    "    classification = classification_report(np.argmax(y_test, axis=1), y_pred, target_names=target_names)\n",
    "    oa = accuracy_score(np.argmax(y_test, axis=1), y_pred)\n",
    "    confusion = confusion_matrix(np.argmax(y_test, axis=1), y_pred)\n",
    "    each_acc, aa = AA_andEachClassAccuracy(confusion)\n",
    "    kappa = cohen_kappa_score(np.argmax(y_test, axis=1), y_pred)\n",
    "    score = model.evaluate(X_test, y_test, batch_size=32)\n",
    "    Test_Loss =  score[0]*100\n",
    "    Test_accuracy = score[1]*100\n",
    "    print(f'Accuracy: {Test_accuracy}')\n",
    "    #return classification, confusion, Test_Loss, Test_accuracy, oa*100, each_acc*100, aa*100, kappa*100"
   ]
  },
  {
   "cell_type": "code",
   "execution_count": 30,
   "metadata": {
    "colab": {
     "base_uri": "https://localhost:8080/",
     "height": 52
    },
    "colab_type": "code",
    "id": "uzebOZLrkQS0",
    "outputId": "84b510c8-a9ca-481c-d2b0-1f6716541580"
   },
   "outputs": [
    {
     "name": "stdout",
     "output_type": "stream",
     "text": [
      "225/225 [==============================] - 13s 57ms/step - loss: 0.1015 - accuracy: 0.9709\n",
      "Accuracy: 97.0871090888977\n"
     ]
    }
   ],
   "source": [
    "reports(Xtest,ytest)"
   ]
  },
  {
   "cell_type": "code",
   "execution_count": 31,
   "metadata": {
    "colab": {},
    "colab_type": "code",
    "id": "3AL2hHMoJm2F"
   },
   "outputs": [],
   "source": [
    "\n",
    "def Patch(data,height_index,width_index):\n",
    "    height_slice = slice(height_index, height_index+PATCH_SIZE)\n",
    "    width_slice = slice(width_index, width_index+PATCH_SIZE)\n",
    "    patch = data[height_slice, width_slice, :]\n",
    "    \n",
    "    return patch"
   ]
  },
  {
   "cell_type": "code",
   "execution_count": 32,
   "metadata": {
    "colab": {},
    "colab_type": "code",
    "id": "mo8vMv7PJqN-"
   },
   "outputs": [],
   "source": [
    "X, y = loadData()"
   ]
  },
  {
   "cell_type": "code",
   "execution_count": 33,
   "metadata": {
    "colab": {},
    "colab_type": "code",
    "id": "M-C1_Bz9JsEl"
   },
   "outputs": [],
   "source": [
    "\n",
    "height = y.shape[0]\n",
    "width = y.shape[1]\n",
    "PATCH_SIZE = windowSize\n",
    "numComponents = K"
   ]
  },
  {
   "cell_type": "code",
   "execution_count": 34,
   "metadata": {
    "colab": {},
    "colab_type": "code",
    "id": "OgnuYTp4JvOi"
   },
   "outputs": [],
   "source": [
    "\n",
    "X,pca = applyPCA(X, numComponents=numComponents)"
   ]
  },
  {
   "cell_type": "code",
   "execution_count": 35,
   "metadata": {
    "colab": {},
    "colab_type": "code",
    "id": "D2ZB0JGtJv_P"
   },
   "outputs": [],
   "source": [
    "\n",
    "X = padWithZeros(X, PATCH_SIZE//2)"
   ]
  },
  {
   "cell_type": "code",
   "execution_count": 36,
   "metadata": {
    "colab": {},
    "colab_type": "code",
    "id": "6IaSUaLdJyG8"
   },
   "outputs": [],
   "source": [
    "\n",
    "# calculate the predicted image\n",
    "outputs = np.zeros((height,width))\n",
    "for i in range(height):\n",
    "    for j in range(width):\n",
    "        target = int(y[i,j])\n",
    "        if target == 0 :\n",
    "            continue\n",
    "        else :\n",
    "            image_patch=Patch(X,i,j)\n",
    "            X_test_image = image_patch.reshape(1,image_patch.shape[0],image_patch.shape[1], image_patch.shape[2], 1).astype('float32')                                   \n",
    "            prediction = (model.predict(X_test_image))\n",
    "            prediction = np.argmax(prediction, axis=1)\n",
    "            outputs[i][j] = prediction+1"
   ]
  },
  {
   "cell_type": "code",
   "execution_count": 37,
   "metadata": {
    "colab": {
     "base_uri": "https://localhost:8080/",
     "height": 431
    },
    "colab_type": "code",
    "id": "GjpvL2jDJ2Nl",
    "outputId": "755510bc-5e3c-4067-98ca-1b1757748448"
   },
   "outputs": [
    {
     "data": {
      "image/png": "[encoded data removed]",
      "text/plain": [
       "<Figure size 504x504 with 1 Axes>"
      ]
     },
     "metadata": {
      "needs_background": "light",
      "tags": []
     },
     "output_type": "display_data"
    }
   ],
   "source": [
    "ground_truth = spectral.imshow(classes = y,figsize =(7,7),cmap='jet')"
   ]
  },
  {
   "cell_type": "code",
   "execution_count": 38,
   "metadata": {
    "colab": {
     "base_uri": "https://localhost:8080/",
     "height": 431
    },
    "colab_type": "code",
    "id": "0l6Kt3jlLJFh",
    "outputId": "3e14be8d-3054-4296-eb88-a2f84aba3d89"
   },
   "outputs": [
    {
     "data": {
      "image/png": "[encoded data removed]",
      "text/plain": [
       "<Figure size 504x504 with 1 Axes>"
      ]
     },
     "metadata": {
      "needs_background": "light",
      "tags": []
     },
     "output_type": "display_data"
    }
   ],
   "source": [
    "predict_image = spectral.imshow(classes = outputs.astype(int),figsize =(7,7))"
   ]
  },
  {
   "cell_type": "code",
   "execution_count": 39,
   "metadata": {
    "colab": {},
    "colab_type": "code",
    "id": "3s75fiL9LJoq"
   },
   "outputs": [],
   "source": [
    "spectral.save_rgb(\"predictions.jpg\", outputs.astype(int), colors=spectral.spy_colors)"
   ]
  },
  {
   "cell_type": "code",
   "execution_count": 40,
   "metadata": {
    "colab": {},
    "colab_type": "code",
    "id": "04tYuhsMLNrZ"
   },
   "outputs": [],
   "source": [
    "\n",
    "\n",
    "\n",
    "spectral.save_rgb(str(\"ind\")+\"_ground_truth.jpg\", y, colors=spectral.spy_colors)"
   ]
  },
  {
   "cell_type": "code",
   "execution_count": 40,
   "metadata": {
    "colab": {},
    "colab_type": "code",
    "id": "G8l-GbkeUqd-"
   },
   "outputs": [],
   "source": []
  }
 ],
 "metadata": {
  "accelerator": "GPU",
  "colab": {
   "include_colab_link": true,
   "name": "Hypespectral CNN(2d +3d)",
   "provenance": []
  },
  "kernelspec": {
   "display_name": "Python 3",
   "language": "python",
   "name": "python3"
  },
  "language_info": {
   "codemirror_mode": {
    "name": "ipython",
    "version": 3
   },
   "file_extension": ".py",
   "mimetype": "text/x-python",
   "name": "python",
   "nbconvert_exporter": "python",
   "pygments_lexer": "ipython3",
   "version": "3.7.4"
  }
 },
 "nbformat": 4,
 "nbformat_minor": 1
}
